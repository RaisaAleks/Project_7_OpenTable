{
 "cells": [
  {
   "cell_type": "code",
   "execution_count": 78,
   "id": "eea29564-b1a0-43eb-90aa-770e620ae112",
   "metadata": {},
   "outputs": [
    {
     "name": "stdout",
     "output_type": "stream",
     "text": [
      "Column Names and Data Types:\n",
      "url                   object\n",
      "rest_name             object\n",
      "number_of_reviews      int64\n",
      "rating               float64\n",
      "food_type             object\n",
      "coupon                object\n",
      "food                 float64\n",
      "service              float64\n",
      "ambience             float64\n",
      "value                float64\n",
      "about_rest            object\n",
      "comments              object\n",
      "image_url             object\n",
      "dtype: object\n"
     ]
    }
   ],
   "source": [
    "import pandas as pd\n",
    "import numpy as np\n",
    "# Read the CSV file\n",
    "df = pd.read_csv('Vancouver.csv')\n",
    "\n",
    "# Print column names and their data types\n",
    "print(\"Column Names and Data Types:\")\n",
    "print(df.dtypes)"
   ]
  },
  {
   "cell_type": "code",
   "execution_count": 79,
   "id": "49cac0b9-6460-443f-85fa-6a5c6b90959f",
   "metadata": {},
   "outputs": [
    {
     "name": "stdout",
     "output_type": "stream",
     "text": [
      "Number of Empty Cells in Each Column:\n",
      "url                  0\n",
      "rest_name            0\n",
      "number_of_reviews    0\n",
      "rating               0\n",
      "food_type            0\n",
      "coupon               0\n",
      "food                 0\n",
      "service              0\n",
      "ambience             0\n",
      "value                0\n",
      "about_rest           0\n",
      "comments             0\n",
      "image_url            0\n",
      "dtype: int64\n"
     ]
    }
   ],
   "source": [
    "# Check for empty cells\n",
    "empty_cells = df.isna().sum()\n",
    "\n",
    "# Print the number of empty cells for each column\n",
    "print(\"Number of Empty Cells in Each Column:\")\n",
    "print(empty_cells)"
   ]
  },
  {
   "cell_type": "code",
   "execution_count": 80,
   "id": "347efacf-f881-4146-a688-ce915d26c114",
   "metadata": {},
   "outputs": [
    {
     "data": {
      "text/plain": [
       "url                  0\n",
       "rest_name            0\n",
       "number_of_reviews    0\n",
       "rating               0\n",
       "food_type            0\n",
       "coupon               0\n",
       "food                 0\n",
       "service              0\n",
       "ambience             0\n",
       "value                0\n",
       "about_rest           0\n",
       "comments             0\n",
       "image_url            0\n",
       "dtype: int64"
      ]
     },
     "execution_count": 80,
     "metadata": {},
     "output_type": "execute_result"
    }
   ],
   "source": [
    "def is_whitespace_or_empty(x):\n",
    "    return isinstance(x, str) and (x.strip() == '' or x != x.strip())\n",
    "df.applymap(is_whitespace_or_empty).sum()"
   ]
  },
  {
   "cell_type": "code",
   "execution_count": 81,
   "id": "fba7f965-73ce-47e6-801f-6f2e247b85d1",
   "metadata": {},
   "outputs": [
    {
     "data": {
      "text/plain": [
       "0"
      ]
     },
     "execution_count": 81,
     "metadata": {},
     "output_type": "execute_result"
    }
   ],
   "source": [
    "# Strip leading/trailing whitespace from all entries in the 'comments' column\n",
    "df['comments'] = df['comments'].apply(lambda x: x.strip() if isinstance(x, str) else x)\n",
    "\n",
    "# Verify if the cleaning was successful\n",
    "df['comments'].map(is_whitespace_or_empty).sum()"
   ]
  },
  {
   "cell_type": "code",
   "execution_count": 82,
   "id": "2cc474d0-5391-4e8d-a908-e861957b9a76",
   "metadata": {},
   "outputs": [
    {
     "data": {
      "text/plain": [
       "0"
      ]
     },
     "execution_count": 82,
     "metadata": {},
     "output_type": "execute_result"
    }
   ],
   "source": [
    "# Strip leading/trailing whitespace from all entries in the 'about' column\n",
    "df['about_rest'] = df['about_rest'].apply(lambda x: x.strip() if isinstance(x, str) else x)\n",
    "\n",
    "# Verify if the cleaning was successful\n",
    "df['about_rest'].map(is_whitespace_or_empty).sum()"
   ]
  },
  {
   "cell_type": "code",
   "execution_count": 83,
   "id": "9235db11-6f7a-4ef8-9363-ec856e37635d",
   "metadata": {},
   "outputs": [
    {
     "data": {
      "text/plain": [
       "url                  0\n",
       "rest_name            0\n",
       "number_of_reviews    0\n",
       "rating               0\n",
       "food_type            0\n",
       "coupon               0\n",
       "food                 0\n",
       "service              0\n",
       "ambience             0\n",
       "value                0\n",
       "about_rest           0\n",
       "comments             0\n",
       "image_url            0\n",
       "dtype: int64"
      ]
     },
     "execution_count": 83,
     "metadata": {},
     "output_type": "execute_result"
    }
   ],
   "source": [
    "df.applymap(is_whitespace_or_empty).sum()"
   ]
  },
  {
   "cell_type": "code",
   "execution_count": 84,
   "id": "db09a1e1-d7be-42b7-8de6-c765f5030008",
   "metadata": {},
   "outputs": [
    {
     "data": {
      "text/plain": [
       "True"
      ]
     },
     "execution_count": 84,
     "metadata": {},
     "output_type": "execute_result"
    }
   ],
   "source": [
    "df['rest_name'].is_unique\n"
   ]
  },
  {
   "cell_type": "code",
   "execution_count": 85,
   "id": "c32bded7-d68d-4fdc-aa5e-ce4dc95a65c8",
   "metadata": {},
   "outputs": [
    {
     "name": "stdout",
     "output_type": "stream",
     "text": [
      "Non-unique restaurant names:\n",
      "[]\n"
     ]
    }
   ],
   "source": [
    "duplicates = df['rest_name'][df['rest_name'].duplicated()].unique()\n",
    "print(\"Non-unique restaurant names:\")\n",
    "print(duplicates)\n"
   ]
  },
  {
   "cell_type": "code",
   "execution_count": 86,
   "id": "c673ae89-c775-47c4-b6ca-d6b6f4f18331",
   "metadata": {},
   "outputs": [],
   "source": [
    "df = df.drop_duplicates(subset=['rest_name'], keep='first')\n"
   ]
  },
  {
   "cell_type": "code",
   "execution_count": 87,
   "id": "a5a85f13-4581-48d5-90c9-f910e93c98c0",
   "metadata": {},
   "outputs": [
    {
     "data": {
      "text/html": [
       "<div>\n",
       "<style scoped>\n",
       "    .dataframe tbody tr th:only-of-type {\n",
       "        vertical-align: middle;\n",
       "    }\n",
       "\n",
       "    .dataframe tbody tr th {\n",
       "        vertical-align: top;\n",
       "    }\n",
       "\n",
       "    .dataframe thead th {\n",
       "        text-align: right;\n",
       "    }\n",
       "</style>\n",
       "<table border=\"1\" class=\"dataframe\">\n",
       "  <thead>\n",
       "    <tr style=\"text-align: right;\">\n",
       "      <th></th>\n",
       "      <th>url</th>\n",
       "      <th>rest_name</th>\n",
       "      <th>number_of_reviews</th>\n",
       "      <th>rating</th>\n",
       "      <th>food_type</th>\n",
       "      <th>coupon</th>\n",
       "      <th>food</th>\n",
       "      <th>service</th>\n",
       "      <th>ambience</th>\n",
       "      <th>value</th>\n",
       "      <th>about_rest</th>\n",
       "      <th>comments</th>\n",
       "      <th>image_url</th>\n",
       "    </tr>\n",
       "  </thead>\n",
       "  <tbody>\n",
       "    <tr>\n",
       "      <th>0</th>\n",
       "      <td>https://www.opentable.com/r/birdies-eats-and-d...</td>\n",
       "      <td>Birdies Eats + Drinks - Burnaby</td>\n",
       "      <td>654</td>\n",
       "      <td>4.5</td>\n",
       "      <td>American</td>\n",
       "      <td>CAN$31 to CAN$50</td>\n",
       "      <td>4.4</td>\n",
       "      <td>4.4</td>\n",
       "      <td>4.5</td>\n",
       "      <td>4.1</td>\n",
       "      <td>Birdies Eats &amp; Drinks is a California-inspired...</td>\n",
       "      <td>Read more Cozy and warm\\nGreat food and friend...</td>\n",
       "      <td>https://resizer.otstatic.com/v2/photos/xlarge/...</td>\n",
       "    </tr>\n",
       "    <tr>\n",
       "      <th>1</th>\n",
       "      <td>https://www.opentable.com/r/le-crocodile-vanco...</td>\n",
       "      <td>Le Crocodile</td>\n",
       "      <td>0</td>\n",
       "      <td>0.0</td>\n",
       "      <td>French</td>\n",
       "      <td>CAN$51 and over</td>\n",
       "      <td>4.7</td>\n",
       "      <td>4.8</td>\n",
       "      <td>4.5</td>\n",
       "      <td>4.4</td>\n",
       "      <td>For over four decades, Le Crocodile has been a...</td>\n",
       "      <td>Read more Service is not bad, but I wish the d...</td>\n",
       "      <td>https://resizer.otstatic.com/v2/photos/xlarge/...</td>\n",
       "    </tr>\n",
       "    <tr>\n",
       "      <th>2</th>\n",
       "      <td>https://www.opentable.com/r/hariyali-express-i...</td>\n",
       "      <td>Hariyali Express Indian Cuisine &amp; Bar</td>\n",
       "      <td>12</td>\n",
       "      <td>4.5</td>\n",
       "      <td>Indian</td>\n",
       "      <td>CAN$30 and under</td>\n",
       "      <td>4.7</td>\n",
       "      <td>4.4</td>\n",
       "      <td>4.3</td>\n",
       "      <td>4.5</td>\n",
       "      <td>Sleek restaurant offering Indian fare, includi...</td>\n",
       "      <td>Authentic and impressive Indian Food 5/5. Exce...</td>\n",
       "      <td>https://resizer.otstatic.com/v2/photos/xlarge/...</td>\n",
       "    </tr>\n",
       "    <tr>\n",
       "      <th>3</th>\n",
       "      <td>https://www.opentable.com/r/dovetail-vancouver...</td>\n",
       "      <td>Dovetail</td>\n",
       "      <td>0</td>\n",
       "      <td>0.0</td>\n",
       "      <td>Contemporary Canadian</td>\n",
       "      <td>CAN$30 and under</td>\n",
       "      <td>4.8</td>\n",
       "      <td>4.7</td>\n",
       "      <td>4.7</td>\n",
       "      <td>4.4</td>\n",
       "      <td>California inspired family-style share plates,...</td>\n",
       "      <td>Service, food, cocktails and ambiance were ama...</td>\n",
       "      <td>https://resizer.otstatic.com/v2/photos/xlarge/...</td>\n",
       "    </tr>\n",
       "    <tr>\n",
       "      <th>4</th>\n",
       "      <td>https://www.opentable.com/r/havana-vancouver?c...</td>\n",
       "      <td>Havana</td>\n",
       "      <td>685</td>\n",
       "      <td>4.4</td>\n",
       "      <td>Latin American</td>\n",
       "      <td>CAN$30 and under</td>\n",
       "      <td>4.3</td>\n",
       "      <td>4.5</td>\n",
       "      <td>4.4</td>\n",
       "      <td>4.2</td>\n",
       "      <td>Patio is seated on first come first serve basi...</td>\n",
       "      <td>Good healthy food. Lots of choice. Excellent s...</td>\n",
       "      <td>https://resizer.otstatic.com/v2/photos/xlarge/...</td>\n",
       "    </tr>\n",
       "    <tr>\n",
       "      <th>...</th>\n",
       "      <td>...</td>\n",
       "      <td>...</td>\n",
       "      <td>...</td>\n",
       "      <td>...</td>\n",
       "      <td>...</td>\n",
       "      <td>...</td>\n",
       "      <td>...</td>\n",
       "      <td>...</td>\n",
       "      <td>...</td>\n",
       "      <td>...</td>\n",
       "      <td>...</td>\n",
       "      <td>...</td>\n",
       "      <td>...</td>\n",
       "    </tr>\n",
       "    <tr>\n",
       "      <th>306</th>\n",
       "      <td>https://www.opentable.com/r/bin-4-burger-loung...</td>\n",
       "      <td>Bin 4 Burger Lounge - Nanaimo</td>\n",
       "      <td>228</td>\n",
       "      <td>4.8</td>\n",
       "      <td>Burgers</td>\n",
       "      <td>CAN$30 and under</td>\n",
       "      <td>4.8</td>\n",
       "      <td>4.9</td>\n",
       "      <td>4.7</td>\n",
       "      <td>4.7</td>\n",
       "      <td>Welcome to Bin 4 Burger Lounge - Nanaimo Locat...</td>\n",
       "      <td>Read more Great food, server was super persona...</td>\n",
       "      <td>https://resizer.otstatic.com/v2/photos/xlarge/...</td>\n",
       "    </tr>\n",
       "    <tr>\n",
       "      <th>307</th>\n",
       "      <td>https://www.opentable.com/r/sirka-gourmet-indi...</td>\n",
       "      <td>Sirka Gourmet Indian Kitchen - Langley</td>\n",
       "      <td>0</td>\n",
       "      <td>0.0</td>\n",
       "      <td>Indian</td>\n",
       "      <td>CAN$30 and under</td>\n",
       "      <td>4.0</td>\n",
       "      <td>4.0</td>\n",
       "      <td>4.0</td>\n",
       "      <td>5.0</td>\n",
       "      <td>Experience the authentic flavors of traditiona...</td>\n",
       "      <td>Read more</td>\n",
       "      <td>https://resizer.otstatic.com/v2/photos/xlarge/...</td>\n",
       "    </tr>\n",
       "    <tr>\n",
       "      <th>308</th>\n",
       "      <td>https://www.opentable.com/r/satellite-bar-and-...</td>\n",
       "      <td>Satellite Bar &amp; Grille at Arbutus Ridge Golf Club</td>\n",
       "      <td>189</td>\n",
       "      <td>4.2</td>\n",
       "      <td>Contemporary Canadian</td>\n",
       "      <td>CAN$30 and under</td>\n",
       "      <td>4.0</td>\n",
       "      <td>4.4</td>\n",
       "      <td>4.0</td>\n",
       "      <td>4.0</td>\n",
       "      <td>The Satellite Bar &amp; Grille at Arbutus Ridge Go...</td>\n",
       "      <td>Read more I think the turkey died of old age i...</td>\n",
       "      <td>https://resizer.otstatic.com/v2/photos/xlarge/...</td>\n",
       "    </tr>\n",
       "    <tr>\n",
       "      <th>309</th>\n",
       "      <td>https://www.opentable.com/r/mr-mikes-duncan-du...</td>\n",
       "      <td>MR MIKES - Duncan</td>\n",
       "      <td>169</td>\n",
       "      <td>4.4</td>\n",
       "      <td>Steakhouse</td>\n",
       "      <td>CAN$30 and under</td>\n",
       "      <td>4.1</td>\n",
       "      <td>4.6</td>\n",
       "      <td>3.9</td>\n",
       "      <td>3.7</td>\n",
       "      <td>Looking for the best nearby casual dining stea...</td>\n",
       "      <td>Read more Excellent service!! Great food. Woul...</td>\n",
       "      <td>https://resizer.otstatic.com/v2/photos/xlarge/...</td>\n",
       "    </tr>\n",
       "    <tr>\n",
       "      <th>310</th>\n",
       "      <td>https://www.opentable.com/r/claudios-ristorant...</td>\n",
       "      <td>Claudio's Ristorante</td>\n",
       "      <td>36</td>\n",
       "      <td>4.5</td>\n",
       "      <td>Italian</td>\n",
       "      <td>CAN$30 and under</td>\n",
       "      <td>4.4</td>\n",
       "      <td>4.4</td>\n",
       "      <td>4.6</td>\n",
       "      <td>4.2</td>\n",
       "      <td>Claudio’s Ristorante is a tribute to our fathe...</td>\n",
       "      <td>Read more Honestly the pizza was so soggy, the...</td>\n",
       "      <td>https://resizer.otstatic.com/v2/photos/xlarge/...</td>\n",
       "    </tr>\n",
       "  </tbody>\n",
       "</table>\n",
       "<p>311 rows × 13 columns</p>\n",
       "</div>"
      ],
      "text/plain": [
       "                                                   url  \\\n",
       "0    https://www.opentable.com/r/birdies-eats-and-d...   \n",
       "1    https://www.opentable.com/r/le-crocodile-vanco...   \n",
       "2    https://www.opentable.com/r/hariyali-express-i...   \n",
       "3    https://www.opentable.com/r/dovetail-vancouver...   \n",
       "4    https://www.opentable.com/r/havana-vancouver?c...   \n",
       "..                                                 ...   \n",
       "306  https://www.opentable.com/r/bin-4-burger-loung...   \n",
       "307  https://www.opentable.com/r/sirka-gourmet-indi...   \n",
       "308  https://www.opentable.com/r/satellite-bar-and-...   \n",
       "309  https://www.opentable.com/r/mr-mikes-duncan-du...   \n",
       "310  https://www.opentable.com/r/claudios-ristorant...   \n",
       "\n",
       "                                             rest_name  number_of_reviews  \\\n",
       "0                      Birdies Eats + Drinks - Burnaby                654   \n",
       "1                                         Le Crocodile                  0   \n",
       "2                Hariyali Express Indian Cuisine & Bar                 12   \n",
       "3                                             Dovetail                  0   \n",
       "4                                               Havana                685   \n",
       "..                                                 ...                ...   \n",
       "306                      Bin 4 Burger Lounge - Nanaimo                228   \n",
       "307             Sirka Gourmet Indian Kitchen - Langley                  0   \n",
       "308  Satellite Bar & Grille at Arbutus Ridge Golf Club                189   \n",
       "309                                  MR MIKES - Duncan                169   \n",
       "310                               Claudio's Ristorante                 36   \n",
       "\n",
       "     rating              food_type            coupon  food  service  ambience  \\\n",
       "0       4.5               American  CAN$31 to CAN$50   4.4      4.4       4.5   \n",
       "1       0.0                 French   CAN$51 and over   4.7      4.8       4.5   \n",
       "2       4.5                 Indian  CAN$30 and under   4.7      4.4       4.3   \n",
       "3       0.0  Contemporary Canadian  CAN$30 and under   4.8      4.7       4.7   \n",
       "4       4.4         Latin American  CAN$30 and under   4.3      4.5       4.4   \n",
       "..      ...                    ...               ...   ...      ...       ...   \n",
       "306     4.8                Burgers  CAN$30 and under   4.8      4.9       4.7   \n",
       "307     0.0                 Indian  CAN$30 and under   4.0      4.0       4.0   \n",
       "308     4.2  Contemporary Canadian  CAN$30 and under   4.0      4.4       4.0   \n",
       "309     4.4             Steakhouse  CAN$30 and under   4.1      4.6       3.9   \n",
       "310     4.5                Italian  CAN$30 and under   4.4      4.4       4.6   \n",
       "\n",
       "     value                                         about_rest  \\\n",
       "0      4.1  Birdies Eats & Drinks is a California-inspired...   \n",
       "1      4.4  For over four decades, Le Crocodile has been a...   \n",
       "2      4.5  Sleek restaurant offering Indian fare, includi...   \n",
       "3      4.4  California inspired family-style share plates,...   \n",
       "4      4.2  Patio is seated on first come first serve basi...   \n",
       "..     ...                                                ...   \n",
       "306    4.7  Welcome to Bin 4 Burger Lounge - Nanaimo Locat...   \n",
       "307    5.0  Experience the authentic flavors of traditiona...   \n",
       "308    4.0  The Satellite Bar & Grille at Arbutus Ridge Go...   \n",
       "309    3.7  Looking for the best nearby casual dining stea...   \n",
       "310    4.2  Claudio’s Ristorante is a tribute to our fathe...   \n",
       "\n",
       "                                              comments  \\\n",
       "0    Read more Cozy and warm\\nGreat food and friend...   \n",
       "1    Read more Service is not bad, but I wish the d...   \n",
       "2    Authentic and impressive Indian Food 5/5. Exce...   \n",
       "3    Service, food, cocktails and ambiance were ama...   \n",
       "4    Good healthy food. Lots of choice. Excellent s...   \n",
       "..                                                 ...   \n",
       "306  Read more Great food, server was super persona...   \n",
       "307                                          Read more   \n",
       "308  Read more I think the turkey died of old age i...   \n",
       "309  Read more Excellent service!! Great food. Woul...   \n",
       "310  Read more Honestly the pizza was so soggy, the...   \n",
       "\n",
       "                                             image_url  \n",
       "0    https://resizer.otstatic.com/v2/photos/xlarge/...  \n",
       "1    https://resizer.otstatic.com/v2/photos/xlarge/...  \n",
       "2    https://resizer.otstatic.com/v2/photos/xlarge/...  \n",
       "3    https://resizer.otstatic.com/v2/photos/xlarge/...  \n",
       "4    https://resizer.otstatic.com/v2/photos/xlarge/...  \n",
       "..                                                 ...  \n",
       "306  https://resizer.otstatic.com/v2/photos/xlarge/...  \n",
       "307  https://resizer.otstatic.com/v2/photos/xlarge/...  \n",
       "308  https://resizer.otstatic.com/v2/photos/xlarge/...  \n",
       "309  https://resizer.otstatic.com/v2/photos/xlarge/...  \n",
       "310  https://resizer.otstatic.com/v2/photos/xlarge/...  \n",
       "\n",
       "[311 rows x 13 columns]"
      ]
     },
     "execution_count": 87,
     "metadata": {},
     "output_type": "execute_result"
    }
   ],
   "source": [
    "df"
   ]
  },
  {
   "cell_type": "code",
   "execution_count": 88,
   "id": "c8fb165c-93a8-4990-9dcb-cca518d7ef6e",
   "metadata": {},
   "outputs": [
    {
     "name": "stdout",
     "output_type": "stream",
     "text": [
      "[ 654    0   12  685 6395 1070   27  287  158 1397  865 2906 8681  233\n",
      " 1292   68  708   30  324  766 2954 3622 2606  372 3355 3801 1639 1841\n",
      " 2935 3652 3888  261 3976 1954 1705 1953  307  386 2548   46  781 2508\n",
      "  364  869  220 2936    3   38   37  311   79 1148 1163 2640  290  219\n",
      " 1504  238 1600   64  675   17 3861  513    1 2412  591   24  256  827\n",
      "   92  416  665  399 1445 3093   11 2922 1273   51  395  218   82   57\n",
      "   53 1217  189  257 1588  222  608 2093   94    5  973  405  166   65\n",
      "  382  281  760  833  420   16  437  414   50  506  499  357  592  647\n",
      "   39   35 1224   47  394  191  450  460   74  391  192  268   29   25\n",
      "  111    7    9   73  388   40   20    8   41  105 2185  133  663  309\n",
      "   77  574  137  118  143    2  129    4  164  316   43   21  124   15\n",
      "   32   14 4286  779 2298  434 2912  310  658   70 1366  459  154  451\n",
      " 1965 1032  252 3855  368 2172 1708  471 3058 3033 3312  775  194 1622\n",
      " 1949   10   49 2452  408  146 1559 2542 3100 1091 1358 3542  689 1137\n",
      "  288 2491 1514  162  984  581  188  886  132 1845  885  107 2567  127\n",
      "  173  330   69  606 1495  773  854   67  768   34  342  172  575 2283\n",
      "  210   80  952  387  516  598  702   81   75  273   78  144  123  906\n",
      "   36  492  136   18  161  202  126  122  100  228  169]\n"
     ]
    }
   ],
   "source": [
    "\n",
    "\n",
    "# Replace specific unwanted values with NaN\n",
    "df = df.replace({\n",
    "    'number_of_reviews': {'No': np.nan},\n",
    "    'rating': {'Rating not found': np.nan},\n",
    "    'food': {'Food not found': np.nan},\n",
    "    'service': {'Service not found': np.nan},\n",
    "    'ambience': {'Ambience not found': np.nan},\n",
    "    'value': {'Value not found': np.nan}\n",
    "})\n",
    "\n",
    "# Check for non-numeric values before converting\n",
    "# This is optional, just for debugging\n",
    "print(df['number_of_reviews'].unique())\n",
    "\n",
    "# Convert the columns to float, handle errors\n",
    "df['number_of_reviews'] = pd.to_numeric(df['number_of_reviews'], errors='coerce')\n",
    "df['rating'] = pd.to_numeric(df['rating'], errors='coerce')\n",
    "df['food'] = pd.to_numeric(df['food'], errors='coerce')\n",
    "df['service'] = pd.to_numeric(df['service'], errors='coerce')\n",
    "df['ambience'] = pd.to_numeric(df['ambience'], errors='coerce')\n",
    "df['value'] = pd.to_numeric(df['value'], errors='coerce')\n",
    "\n",
    "# Fill NaN values with 0\n",
    "df = df.fillna(0)\n",
    "\n",
    "# Convert types as required\n",
    "df = df.astype({\n",
    "    'number_of_reviews': 'int',\n",
    "    'rating': 'float',\n",
    "    'food': 'float',\n",
    "    'service': 'float',\n",
    "    'ambience': 'float',\n",
    "    'value': 'float'\n",
    "})\n"
   ]
  },
  {
   "cell_type": "code",
   "execution_count": 89,
   "id": "7108ad41-650c-4699-824f-f2b33647d504",
   "metadata": {},
   "outputs": [
    {
     "data": {
      "text/plain": [
       "url                   object\n",
       "rest_name             object\n",
       "number_of_reviews      int32\n",
       "rating               float64\n",
       "food_type             object\n",
       "coupon                object\n",
       "food                 float64\n",
       "service              float64\n",
       "ambience             float64\n",
       "value                float64\n",
       "about_rest            object\n",
       "comments              object\n",
       "image_url             object\n",
       "dtype: object"
      ]
     },
     "execution_count": 89,
     "metadata": {},
     "output_type": "execute_result"
    }
   ],
   "source": [
    "df.dtypes"
   ]
  },
  {
   "cell_type": "code",
   "execution_count": 90,
   "id": "a4a04dbb",
   "metadata": {},
   "outputs": [
    {
     "name": "stdout",
     "output_type": "stream",
     "text": [
      "int32\n"
     ]
    }
   ],
   "source": [
    "print(df['number_of_reviews'].dtype)\n"
   ]
  },
  {
   "cell_type": "code",
   "execution_count": 91,
   "id": "132178c0-5c3a-4cd2-a66d-97c70b0cf83d",
   "metadata": {},
   "outputs": [],
   "source": [
    "# Remove rows where 'rating' is 0\n",
    "df = df[df['rating'] != 0]\n"
   ]
  },
  {
   "cell_type": "code",
   "execution_count": 92,
   "id": "417de5a7-9a54-4f18-aaf1-bd8557a5ddcb",
   "metadata": {},
   "outputs": [],
   "source": [
    "# Save the cleaned dataset\n",
    "df.to_csv('Vancouver.csv', index=False)"
   ]
  },
  {
   "cell_type": "code",
   "execution_count": null,
   "id": "60bfccd5-896b-4b39-a0ec-1c1a90b8a15f",
   "metadata": {},
   "outputs": [],
   "source": []
  }
 ],
 "metadata": {
  "kernelspec": {
   "display_name": "Python 3 (ipykernel)",
   "language": "python",
   "name": "python3"
  },
  "language_info": {
   "codemirror_mode": {
    "name": "ipython",
    "version": 3
   },
   "file_extension": ".py",
   "mimetype": "text/x-python",
   "name": "python",
   "nbconvert_exporter": "python",
   "pygments_lexer": "ipython3",
   "version": "3.11.5"
  }
 },
 "nbformat": 4,
 "nbformat_minor": 5
}
