{
 "cells": [
  {
   "cell_type": "code",
   "execution_count": 2,
   "id": "af5c45a0",
   "metadata": {},
   "outputs": [
    {
     "name": "stdout",
     "output_type": "stream",
     "text": [
      "Uploaded C:\\Users\\Dell\\Desktop\\Final project\\Alberta.csv to table alberta\n",
      "Uploaded C:\\Users\\Dell\\Desktop\\Final project\\Manitoba.csv to table manitoba\n",
      "Uploaded C:\\Users\\Dell\\Desktop\\Final project\\Ontario.csv to table ontario\n",
      "Uploaded C:\\Users\\Dell\\Desktop\\Final project\\Quebec.csv to table quebec\n",
      "Uploaded C:\\Users\\Dell\\Desktop\\Final project\\Vancouver.csv to table vancouver\n"
     ]
    }
   ],
   "source": [
    "import pandas as pd\n",
    "from sqlalchemy import create_engine\n",
    "\n",
    "# List of CSV file paths\n",
    "file_paths = [\n",
    "    r\"C:\\Users\\Dell\\Desktop\\Final project\\Alberta.csv\",\n",
    "    r\"C:\\Users\\Dell\\Desktop\\Final project\\Manitoba.csv\",\n",
    "    r\"C:\\Users\\Dell\\Desktop\\Final project\\Ontario.csv\",\n",
    "    r\"C:\\Users\\Dell\\Desktop\\Final project\\Quebec.csv\",\n",
    "    r\"C:\\Users\\Dell\\Desktop\\Final project\\Vancouver.csv\"\n",
    "]\n",
    "\n",
    "# Table names corresponding to the CSVs\n",
    "table_names = ['alberta', 'manitoba', 'ontario', 'quebec', 'vancouver']\n",
    "\n",
    "# Database connection details\n",
    "db_username = 'postgres'\n",
    "db_password = 'acadata'\n",
    "db_host = 'localhost'\n",
    "db_port = '5432'\n",
    "db_name = 'final_project' \n",
    "\n",
    "# Create the engine to connect to PostgreSQL\n",
    "engine = create_engine(f'postgresql+psycopg2://{db_username}:{db_password}@{db_host}:{db_port}/{db_name}')\n",
    "\n",
    "# Loop through files and upload each to the corresponding table\n",
    "for file_path, table_name in zip(file_paths, table_names):\n",
    "    # Read each CSV file into a DataFrame\n",
    "    df = pd.read_csv(file_path)\n",
    "    # Upload the DataFrame to the specified table in PostgreSQL\n",
    "    df.to_sql(table_name, engine, if_exists='replace', index=False)\n",
    "    print(f\"Uploaded {file_path} to table {table_name}\")\n"
   ]
  },
  {
   "cell_type": "code",
   "execution_count": null,
   "id": "8076f224",
   "metadata": {},
   "outputs": [],
   "source": []
  },
  {
   "cell_type": "code",
   "execution_count": null,
   "id": "a6182e48",
   "metadata": {},
   "outputs": [],
   "source": []
  }
 ],
 "metadata": {
  "kernelspec": {
   "display_name": "Python 3 (ipykernel)",
   "language": "python",
   "name": "python3"
  },
  "language_info": {
   "codemirror_mode": {
    "name": "ipython",
    "version": 3
   },
   "file_extension": ".py",
   "mimetype": "text/x-python",
   "name": "python",
   "nbconvert_exporter": "python",
   "pygments_lexer": "ipython3",
   "version": "3.11.5"
  }
 },
 "nbformat": 4,
 "nbformat_minor": 5
}
