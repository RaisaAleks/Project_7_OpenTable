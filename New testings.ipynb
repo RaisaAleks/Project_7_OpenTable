{
 "cells": [
  {
   "cell_type": "code",
   "execution_count": 2,
   "id": "80d76a40",
   "metadata": {},
   "outputs": [
    {
     "name": "stdout",
     "output_type": "stream",
     "text": [
      "\n",
      "=== Testing for column: 'rating' ===\n",
      "ANOVA for 'rating': F-statistic = 1.805, p-value = 1.255e-01\n",
      "T-test between 'Alberta' and 'Manitoba' for 'rating': T-statistic = -1.504, p-value = 1.343e-01\n",
      "T-test between 'Alberta' and 'Ontario' for 'rating': T-statistic = -1.429, p-value = 1.550e-01\n",
      "T-test between 'Alberta' and 'Quebec' for 'rating': T-statistic = -1.276, p-value = 2.034e-01\n",
      "T-test between 'Alberta' and 'Vancouver' for 'rating': T-statistic = -0.636, p-value = 5.259e-01\n",
      "T-test between 'Manitoba' and 'Ontario' for 'rating': T-statistic = 0.445, p-value = 6.576e-01\n",
      "T-test between 'Manitoba' and 'Quebec' for 'rating': T-statistic = 0.428, p-value = 6.696e-01\n",
      "T-test between 'Manitoba' and 'Vancouver' for 'rating': T-statistic = 1.505, p-value = 1.351e-01\n",
      "T-test between 'Ontario' and 'Quebec' for 'rating': T-statistic = 0.085, p-value = 9.320e-01\n",
      "T-test between 'Ontario' and 'Vancouver' for 'rating': T-statistic = 1.742, p-value = 8.212e-02\n",
      "T-test between 'Quebec' and 'Vancouver' for 'rating': T-statistic = 1.184, p-value = 2.373e-01\n",
      "\n",
      "=== Testing for column: 'number_of_reviews' ===\n",
      "ANOVA for 'number_of_reviews': F-statistic = 0.992, p-value = 4.106e-01\n",
      "T-test between 'Alberta' and 'Manitoba' for 'number_of_reviews': T-statistic = 0.125, p-value = 9.011e-01\n",
      "T-test between 'Alberta' and 'Ontario' for 'number_of_reviews': T-statistic = 0.293, p-value = 7.699e-01\n",
      "T-test between 'Alberta' and 'Quebec' for 'number_of_reviews': T-statistic = 0.689, p-value = 4.912e-01\n",
      "T-test between 'Alberta' and 'Vancouver' for 'number_of_reviews': T-statistic = -0.930, p-value = 3.531e-01\n",
      "T-test between 'Manitoba' and 'Ontario' for 'number_of_reviews': T-statistic = 0.063, p-value = 9.498e-01\n",
      "T-test between 'Manitoba' and 'Quebec' for 'number_of_reviews': T-statistic = 0.398, p-value = 6.915e-01\n",
      "T-test between 'Manitoba' and 'Vancouver' for 'number_of_reviews': T-statistic = -0.829, p-value = 4.090e-01\n",
      "T-test between 'Ontario' and 'Quebec' for 'number_of_reviews': T-statistic = 0.571, p-value = 5.682e-01\n",
      "T-test between 'Ontario' and 'Vancouver' for 'number_of_reviews': T-statistic = -1.530, p-value = 1.266e-01\n",
      "T-test between 'Quebec' and 'Vancouver' for 'number_of_reviews': T-statistic = -1.699, p-value = 9.005e-02\n",
      "\n",
      "=== Testing for column: 'food' ===\n",
      "ANOVA for 'food': F-statistic = 2.079, p-value = 8.141e-02\n",
      "T-test between 'Alberta' and 'Manitoba' for 'food': T-statistic = -1.206, p-value = 2.293e-01\n",
      "T-test between 'Alberta' and 'Ontario' for 'food': T-statistic = -0.829, p-value = 4.082e-01\n",
      "T-test between 'Alberta' and 'Quebec' for 'food': T-statistic = -1.185, p-value = 2.373e-01\n",
      "T-test between 'Alberta' and 'Vancouver' for 'food': T-statistic = 0.389, p-value = 6.974e-01\n",
      "T-test between 'Manitoba' and 'Ontario' for 'food': T-statistic = 0.799, p-value = 4.270e-01\n",
      "T-test between 'Manitoba' and 'Quebec' for 'food': T-statistic = 0.198, p-value = 8.432e-01\n",
      "T-test between 'Manitoba' and 'Vancouver' for 'food': T-statistic = 1.968, p-value = 5.187e-02\n",
      "T-test between 'Ontario' and 'Quebec' for 'food': T-statistic = -0.764, p-value = 4.457e-01\n",
      "T-test between 'Ontario' and 'Vancouver' for 'food': T-statistic = 2.178, p-value = 2.986e-02\n",
      "T-test between 'Quebec' and 'Vancouver' for 'food': T-statistic = 2.223, p-value = 2.677e-02\n",
      "\n",
      "=== Testing for column: 'service' ===\n",
      "ANOVA for 'service': F-statistic = 0.613, p-value = 6.535e-01\n",
      "T-test between 'Alberta' and 'Manitoba' for 'service': T-statistic = -0.951, p-value = 3.429e-01\n",
      "T-test between 'Alberta' and 'Ontario' for 'service': T-statistic = -0.003, p-value = 9.979e-01\n",
      "T-test between 'Alberta' and 'Quebec' for 'service': T-statistic = -0.284, p-value = 7.770e-01\n",
      "T-test between 'Alberta' and 'Vancouver' for 'service': T-statistic = 0.365, p-value = 7.152e-01\n",
      "T-test between 'Manitoba' and 'Ontario' for 'service': T-statistic = 1.432, p-value = 1.562e-01\n",
      "T-test between 'Manitoba' and 'Quebec' for 'service': T-statistic = 0.901, p-value = 3.695e-01\n",
      "T-test between 'Manitoba' and 'Vancouver' for 'service': T-statistic = 1.767, p-value = 8.022e-02\n",
      "T-test between 'Ontario' and 'Quebec' for 'service': T-statistic = -0.500, p-value = 6.175e-01\n",
      "T-test between 'Ontario' and 'Vancouver' for 'service': T-statistic = 0.749, p-value = 4.544e-01\n",
      "T-test between 'Quebec' and 'Vancouver' for 'service': T-statistic = 0.989, p-value = 3.232e-01\n",
      "\n",
      "=== Testing for column: 'ambience' ===\n",
      "ANOVA for 'ambience': F-statistic = 1.941, p-value = 1.013e-01\n",
      "T-test between 'Alberta' and 'Manitoba' for 'ambience': T-statistic = 0.014, p-value = 9.888e-01\n",
      "T-test between 'Alberta' and 'Ontario' for 'ambience': T-statistic = -0.786, p-value = 4.332e-01\n",
      "T-test between 'Alberta' and 'Quebec' for 'ambience': T-statistic = -0.525, p-value = 6.001e-01\n",
      "T-test between 'Alberta' and 'Vancouver' for 'ambience': T-statistic = 0.674, p-value = 5.013e-01\n",
      "T-test between 'Manitoba' and 'Ontario' for 'ambience': T-statistic = -0.951, p-value = 3.449e-01\n",
      "T-test between 'Manitoba' and 'Quebec' for 'ambience': T-statistic = -0.618, p-value = 5.376e-01\n",
      "T-test between 'Manitoba' and 'Vancouver' for 'ambience': T-statistic = 0.762, p-value = 4.479e-01\n",
      "T-test between 'Ontario' and 'Quebec' for 'ambience': T-statistic = 0.330, p-value = 7.413e-01\n",
      "T-test between 'Ontario' and 'Vancouver' for 'ambience': T-statistic = 2.798, p-value = 5.332e-03\n",
      "T-test between 'Quebec' and 'Vancouver' for 'ambience': T-statistic = 1.816, p-value = 7.008e-02\n",
      "\n",
      "=== Testing for column: 'value' ===\n",
      "ANOVA for 'value': F-statistic = 1.505, p-value = 1.985e-01\n",
      "T-test between 'Alberta' and 'Manitoba' for 'value': T-statistic = -1.255, p-value = 2.110e-01\n",
      "T-test between 'Alberta' and 'Ontario' for 'value': T-statistic = -0.337, p-value = 7.362e-01\n",
      "T-test between 'Alberta' and 'Quebec' for 'value': T-statistic = -1.023, p-value = 3.073e-01\n",
      "T-test between 'Alberta' and 'Vancouver' for 'value': T-statistic = 0.572, p-value = 5.677e-01\n",
      "T-test between 'Manitoba' and 'Ontario' for 'value': T-statistic = 1.415, p-value = 1.609e-01\n",
      "T-test between 'Manitoba' and 'Quebec' for 'value': T-statistic = 0.349, p-value = 7.278e-01\n",
      "T-test between 'Manitoba' and 'Vancouver' for 'value': T-statistic = 2.156, p-value = 3.263e-02\n",
      "T-test between 'Ontario' and 'Quebec' for 'value': T-statistic = -1.135, p-value = 2.571e-01\n",
      "T-test between 'Ontario' and 'Vancouver' for 'value': T-statistic = 1.354, p-value = 1.766e-01\n",
      "T-test between 'Quebec' and 'Vancouver' for 'value': T-statistic = 1.972, p-value = 4.920e-02\n"
     ]
    }
   ],
   "source": [
    "import pandas as pd\n",
    "from scipy import stats\n",
    "\n",
    "# Load the datasets\n",
    "file_paths = {\n",
    "    'Alberta': r\"C:\\Users\\Dell\\Desktop\\Final project\\Alberta.csv\",\n",
    "    'Manitoba': r\"C:\\Users\\Dell\\Desktop\\Final project\\Manitoba.csv\",\n",
    "    'Ontario': r\"C:\\Users\\Dell\\Desktop\\Final project\\Ontario.csv\",\n",
    "    'Quebec': r\"C:\\Users\\Dell\\Desktop\\Final project\\Quebec.csv\",\n",
    "    'Vancouver': r\"C:\\Users\\Dell\\Desktop\\Final project\\Vancouver.csv\"\n",
    "}\n",
    "\n",
    "dataframes = {name: pd.read_csv(path) for name, path in file_paths.items()}\n",
    "\n",
    "# Statistical Testing: T-tests for pairwise comparisons and ANOVA for all groups\n",
    "def perform_tests(dataframes, column):\n",
    "    # Conduct a one-way ANOVA to check for differences between all groups\n",
    "    data = [df[column].dropna() for df in dataframes.values()]\n",
    "    anova_result = stats.f_oneway(*data)\n",
    "    print(f\"ANOVA for '{column}': F-statistic = {anova_result.statistic:.3f}, p-value = {anova_result.pvalue:.3e}\")\n",
    "    \n",
    "    # Pairwise T-tests between datasets\n",
    "    dataset_names = list(dataframes.keys())\n",
    "    for i in range(len(dataset_names)):\n",
    "        for j in range(i + 1, len(dataset_names)):\n",
    "            group1 = dataframes[dataset_names[i]][column].dropna()\n",
    "            group2 = dataframes[dataset_names[j]][column].dropna()\n",
    "            t_test_result = stats.ttest_ind(group1, group2, equal_var=False)  # Welch's t-test\n",
    "            print(f\"T-test between '{dataset_names[i]}' and '{dataset_names[j]}' for '{column}': \"\n",
    "                  f\"T-statistic = {t_test_result.statistic:.3f}, p-value = {t_test_result.pvalue:.3e}\")\n",
    "\n",
    "# Run tests on relevant columns (e.g., 'rating', 'number_of_reviews')\n",
    "for col in ['rating', 'number_of_reviews', 'food', 'service', 'ambience', 'value']:\n",
    "    print(f\"\\n=== Testing for column: '{col}' ===\")\n",
    "    perform_tests(dataframes, col)\n"
   ]
  },
  {
   "cell_type": "code",
   "execution_count": 8,
   "id": "a388317b",
   "metadata": {},
   "outputs": [
    {
     "name": "stdout",
     "output_type": "stream",
     "text": [
      "Independent T-test between Vancouver and Ontario for 'rating':\n",
      "T-statistic = -1.742, p-value = 8.212e-02\n"
     ]
    }
   ],
   "source": [
    "from scipy import stats\n",
    "\n",
    "# Independent t-test for 'rating' between Vancouver and Ontario\n",
    "group1 = dataframes['Vancouver']['rating'].dropna()\n",
    "group2 = dataframes['Ontario']['rating'].dropna()\n",
    "\n",
    "t_test_result = stats.ttest_ind(group1, group2, equal_var=False)  # Welch's t-test\n",
    "print(f\"Independent T-test between Vancouver and Ontario for 'rating':\")\n",
    "print(f\"T-statistic = {t_test_result.statistic:.3f}, p-value = {t_test_result.pvalue:.3e}\")\n"
   ]
  },
  {
   "cell_type": "code",
   "execution_count": 9,
   "id": "8d432267",
   "metadata": {},
   "outputs": [
    {
     "name": "stdout",
     "output_type": "stream",
     "text": [
      "                            OLS Regression Results                            \n",
      "==============================================================================\n",
      "Dep. Variable:                 rating   R-squared:                       0.915\n",
      "Model:                            OLS   Adj. R-squared:                  0.914\n",
      "Method:                 Least Squares   F-statistic:                     772.4\n",
      "Date:                Tue, 05 Nov 2024   Prob (F-statistic):          6.72e-152\n",
      "Time:                        00:16:07   Log-Likelihood:                 247.70\n",
      "No. Observations:                 291   AIC:                            -485.4\n",
      "Df Residuals:                     286   BIC:                            -467.0\n",
      "Df Model:                           4                                         \n",
      "Covariance Type:            nonrobust                                         \n",
      "==============================================================================\n",
      "                 coef    std err          t      P>|t|      [0.025      0.975]\n",
      "------------------------------------------------------------------------------\n",
      "const         -0.1211      0.090     -1.352      0.177      -0.297       0.055\n",
      "food           0.5496      0.030     18.150      0.000       0.490       0.609\n",
      "service        0.2231      0.033      6.812      0.000       0.159       0.288\n",
      "ambience       0.2618      0.030      8.688      0.000       0.202       0.321\n",
      "value          0.0018      0.019      0.094      0.926      -0.036       0.040\n",
      "==============================================================================\n",
      "Omnibus:                      133.496   Durbin-Watson:                   1.879\n",
      "Prob(Omnibus):                  0.000   Jarque-Bera (JB):             2492.111\n",
      "Skew:                          -1.368   Prob(JB):                         0.00\n",
      "Kurtosis:                      17.073   Cond. No.                         131.\n",
      "==============================================================================\n",
      "\n",
      "Notes:\n",
      "[1] Standard Errors assume that the covariance matrix of the errors is correctly specified.\n"
     ]
    }
   ],
   "source": [
    "import statsmodels.api as sm\n",
    "\n",
    "# Preparing data for multiple regression analysis for Vancouver\n",
    "X = dataframes['Vancouver'][['food', 'service', 'ambience', 'value']].dropna()\n",
    "y = dataframes['Vancouver']['rating'].dropna()\n",
    "\n",
    "# Align X and y to avoid misalignment due to NaNs\n",
    "X = X.loc[y.index]\n",
    "X = sm.add_constant(X)  # Add constant for intercept\n",
    "\n",
    "model = sm.OLS(y, X).fit()\n",
    "print(model.summary())\n"
   ]
  },
  {
   "cell_type": "code",
   "execution_count": 10,
   "id": "b65ff54b",
   "metadata": {},
   "outputs": [
    {
     "name": "stdout",
     "output_type": "stream",
     "text": [
      "Chi-square Test for association between 'food_type' and 'high_reviews':\n",
      "Chi2-statistic = 118.555, p-value = 4.780e-06, Degrees of Freedom = 58\n"
     ]
    }
   ],
   "source": [
    "from scipy.stats import chi2_contingency\n",
    "\n",
    "# Create a categorical variable for 'number_of_reviews' being above or below the median\n",
    "dataframes['Vancouver']['high_reviews'] = dataframes['Vancouver']['number_of_reviews'] > dataframes['Vancouver']['number_of_reviews'].median()\n",
    "\n",
    "# Create a contingency table\n",
    "contingency_table = pd.crosstab(dataframes['Vancouver']['food_type'], dataframes['Vancouver']['high_reviews'])\n",
    "\n",
    "# Perform chi-square test\n",
    "chi2, p, dof, expected = chi2_contingency(contingency_table)\n",
    "print(\"Chi-square Test for association between 'food_type' and 'high_reviews':\")\n",
    "print(f\"Chi2-statistic = {chi2:.3f}, p-value = {p:.3e}, Degrees of Freedom = {dof}\")\n"
   ]
  },
  {
   "cell_type": "code",
   "execution_count": null,
   "id": "0f043d30",
   "metadata": {},
   "outputs": [],
   "source": []
  }
 ],
 "metadata": {
  "kernelspec": {
   "display_name": "Python 3 (ipykernel)",
   "language": "python",
   "name": "python3"
  },
  "language_info": {
   "codemirror_mode": {
    "name": "ipython",
    "version": 3
   },
   "file_extension": ".py",
   "mimetype": "text/x-python",
   "name": "python",
   "nbconvert_exporter": "python",
   "pygments_lexer": "ipython3",
   "version": "3.11.5"
  }
 },
 "nbformat": 4,
 "nbformat_minor": 5
}
